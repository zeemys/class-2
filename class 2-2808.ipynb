{
 "cells": [
  {
   "cell_type": "code",
   "execution_count": 2,
   "id": "d006920e",
   "metadata": {},
   "outputs": [
    {
     "name": "stdout",
     "output_type": "stream",
     "text": [
      "enter length100\n",
      "b= 100\n",
      "c= 0.4\n",
      "d= 100.4\n"
     ]
    }
   ],
   "source": [
    "a=int(input('enter length'))\n",
    "b=100\n",
    "c=(a/b)/2.5\n",
    "d=a+c\n",
    "\n",
    "print('b=',b)\n",
    "print('c=',c)\n",
    "print('d=',d)"
   ]
  },
  {
   "cell_type": "code",
   "execution_count": 3,
   "id": "dd884e61",
   "metadata": {},
   "outputs": [
    {
     "name": "stdout",
     "output_type": "stream",
     "text": [
      "enter length20\n",
      "b= 100\n",
      "c= 0.08\n",
      "d= 20.08\n"
     ]
    }
   ],
   "source": [
    "a=int(input('enter length'))\n",
    "b=100\n",
    "c=(a/b)/2.5\n",
    "d=a+c\n",
    "\n",
    "print('b=',b)\n",
    "print('c=',c)\n",
    "print('d=',d)"
   ]
  },
  {
   "cell_type": "code",
   "execution_count": null,
   "id": "fd9fdc7c",
   "metadata": {},
   "outputs": [],
   "source": []
  }
 ],
 "metadata": {
  "kernelspec": {
   "display_name": "Python 3 (ipykernel)",
   "language": "python",
   "name": "python3"
  },
  "language_info": {
   "codemirror_mode": {
    "name": "ipython",
    "version": 3
   },
   "file_extension": ".py",
   "mimetype": "text/x-python",
   "name": "python",
   "nbconvert_exporter": "python",
   "pygments_lexer": "ipython3",
   "version": "3.9.12"
  }
 },
 "nbformat": 4,
 "nbformat_minor": 5
}
